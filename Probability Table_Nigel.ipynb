{
 "cells": [
  {
   "cell_type": "markdown",
   "metadata": {},
   "source": [
    "# Hypothesis testing tables"
   ]
  },
  {
   "cell_type": "code",
   "execution_count": 1,
   "metadata": {
    "collapsed": false
   },
   "outputs": [
    {
     "name": "stdout",
     "output_type": "stream",
     "text": [
      "Using matplotlib backend: MacOSX\n"
     ]
    }
   ],
   "source": [
    "import numpy as np\n",
    "import pandas as pd\n",
    "import math\n",
    "import matplotlib.pyplot as plt\n",
    "%matplotlib\n"
   ]
  },
  {
   "cell_type": "code",
   "execution_count": 17,
   "metadata": {
    "collapsed": false
   },
   "outputs": [],
   "source": [
    "lmbda = np.linspace(1, 25, 25)\n",
    "j = np.linspace(1,500,500)\n",
    "p = np.linspace(1,1,25)"
   ]
  },
  {
   "cell_type": "code",
   "execution_count": 51,
   "metadata": {
    "collapsed": false
   },
   "outputs": [
    {
     "data": {
      "text/plain": [
       "700689516.83500051"
      ]
     },
     "execution_count": 51,
     "metadata": {},
     "output_type": "execute_result"
    }
   ],
   "source": [
    "lmbda = 4\n",
    "p = 0\n",
    "for i in range(1, 5):\n",
    "    for k in range(i, 5):\n",
    "        p1 = np.exp(lmbda) * lmbda**(k-i)/math.factorial(k-i) * np.exp(lmbda)*lmbda**k/math.factorial(k)\n",
    "        if i%2==0:\n",
    "            p2 = np.exp(lmbda)*lmbda**(k-i/2)/math.factorial(k-i/2)\n",
    "        else:\n",
    "            p2 = np.exp(lmbda)*lmbda**(k-(i-1)/2)/math.factorial(k-(i-1)/2)\n",
    "        p = p + p1*p2\n",
    "        \n",
    "    \n",
    "p"
   ]
  },
  {
   "cell_type": "code",
   "execution_count": 30,
   "metadata": {
    "collapsed": false
   },
   "outputs": [
    {
     "ename": "SyntaxError",
     "evalue": "unexpected EOF while parsing (<ipython-input-30-deb49ebbc3dc>, line 6)",
     "output_type": "error",
     "traceback": [
      "\u001b[0;36m  File \u001b[0;32m\"<ipython-input-30-deb49ebbc3dc>\"\u001b[0;36m, line \u001b[0;32m6\u001b[0m\n\u001b[0;31m    newp = np.exp(-3 * lmbda) * lmbda **(1.5 * (x1[i]+x3[j]))/math.factorial(x3[j]) / factx1 / math.factorial(int(round(x1[i]+x3[j])/2)\u001b[0m\n\u001b[0m                                                                                                                                       ^\u001b[0m\n\u001b[0;31mSyntaxError\u001b[0m\u001b[0;31m:\u001b[0m unexpected EOF while parsing\n"
     ]
    }
   ],
   "source": [
    "lmbda = 1\n",
    "p = 0\n",
    "for i in range(len(x1)):\n",
    "    factx1 = math.factorial(x1[i])\n",
    "    for j in range(len(x3)):\n",
    "        newp = np.exp(-3 * lmbda) * lmbda **(1.5 * (x1[i]+x3[j]))/math.factorial(x3[j]) / factx1 / math.factorial(int(round(x1[i]+x3[j])/2)"
   ]
  },
  {
   "cell_type": "code",
   "execution_count": 13,
   "metadata": {
    "collapsed": false
   },
   "outputs": [],
   "source": [
    "for i in range(len(lmbda)):\n",
    "    p[i] = 1 - ( 1- np.exp(-lmbda[i]) * lmbda[i]**lmbda[i] / math.factorial(lmbda[i])) ** 3 "
   ]
  },
  {
   "cell_type": "code",
   "execution_count": 68,
   "metadata": {
    "collapsed": false
   },
   "outputs": [
    {
     "data": {
      "text/plain": [
       "0.0020086183837991116"
      ]
     },
     "execution_count": 68,
     "metadata": {},
     "output_type": "execute_result"
    }
   ],
   "source": [
    "lmbda = 25\n",
    "p = 0\n",
    "n = 10\n",
    "newp = 0\n",
    "\n",
    "## When j is even, my j below is the actual j / 2\n",
    "\n",
    "for j in range(1, n):\n",
    "    for k in range(2 * j, 2 * n):\n",
    "        p1 = np.exp(-3 * lmbda) * lmbda ** (3 * k - 3 * j) / math.factorial(k) / math.factorial(k - 2 * j) / math.factorial(k - j)\n",
    "        p = p + p1\n",
    "## When j is odd, my j below is the actual (j-1) / 2\n",
    "for j in range(1, n):\n",
    "    for k in range(2 * j + 1, 2 * n + 1):\n",
    "        p2 = np.exp(-3 * lmbda) * lmbda ** (3 * k - 3 * j - 2.5) / math.factorial(k) / math.factorial(k - (j + 2)) / math.factorial(k - (2 * j + 1))\n",
    "        newp = newp + p2\n",
    "probability = 6 * (newp + p) \n",
    "probability"
   ]
  },
  {
   "cell_type": "code",
   "execution_count": 69,
   "metadata": {
    "collapsed": false
   },
   "outputs": [],
   "source": [
    "lmbda = np.linspace(1, 25, 25)\n",
    "\n",
    "# I tried to run a loop for lmbda, but it does not give me the correct values, and thus I just changed lmbda manually..\n",
    "# to get that table for probability\n",
    "# Another thing to note is that, the n value that I could choose is 80, but it does not diverge a lot if i choose n = 5\n",
    "# for the loop. \n",
    "# And the probability values that I get is slightly smaller than what they get...I've checked my codes, and i do not \n",
    "# think there will be errors associated with it.\n",
    "# My maximum for lmbda is when lmbda is around 11, and a max p value is around 0.433\n",
    "probability = [0.247, 0.336, 0.367, 0.387, 0.400, 0.410, 0.417, 0.423, 0.428, 0.432, 0.433, 0.429, 0.418, 0.392, 0.353, 0.300, 0.239, 0.176, 0.119, 0.074, 0.042, 0.022, 0.011, 0.005, 0.002]           \n",
    "numhist= "
   ]
  },
  {
   "cell_type": "code",
   "execution_count": null,
   "metadata": {
    "collapsed": true
   },
   "outputs": [],
   "source": []
  }
 ],
 "metadata": {
  "kernelspec": {
   "display_name": "Python [Root]",
   "language": "python",
   "name": "Python [Root]"
  },
  "language_info": {
   "codemirror_mode": {
    "name": "ipython",
    "version": 3
   },
   "file_extension": ".py",
   "mimetype": "text/x-python",
   "name": "python",
   "nbconvert_exporter": "python",
   "pygments_lexer": "ipython3",
   "version": "3.5.2"
  }
 },
 "nbformat": 4,
 "nbformat_minor": 0
}
