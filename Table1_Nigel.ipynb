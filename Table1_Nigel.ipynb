{
 "cells": [
  {
   "cell_type": "markdown",
   "metadata": {},
   "source": [
    "# Hypothesis testing tables"
   ]
  },
  {
   "cell_type": "code",
   "execution_count": 2,
   "metadata": {
    "collapsed": false
   },
   "outputs": [
    {
     "name": "stdout",
     "output_type": "stream",
     "text": [
      "Using matplotlib backend: MacOSX\n"
     ]
    }
   ],
   "source": [
    "import numpy as np\n",
    "import pandas as pd\n",
    "import math\n",
    "import matplotlib.pyplot as plt\n",
    "%matplotlib\n"
   ]
  },
  {
   "cell_type": "code",
   "execution_count": 27,
   "metadata": {
    "collapsed": false
   },
   "outputs": [
    {
     "data": {
      "text/plain": [
       "0.24762899028447527"
      ]
     },
     "execution_count": 27,
     "metadata": {},
     "output_type": "execute_result"
    }
   ],
   "source": [
    "lmbda = 1\n",
    "p = 0\n",
    "n = 30\n",
    "newp = 0\n",
    "\n",
    "## When j is even, my j below is the actual j / 2\n",
    "\n",
    "for j in range(1, n):\n",
    "    for k in range(2 * j, 2 * n):\n",
    "        p1 = np.exp(-3 * lmbda) * lmbda ** (3 * k - 3 * j) / math.factorial(k) / math.factorial(k - 2 * j) / math.factorial(k - j)\n",
    "        p = p + p1\n",
    "## When j is odd, my j below is the actual (j-1) / 2\n",
    "for j in range(1, n):\n",
    "    for k in range(2 * j + 1, 2 * n + 1):\n",
    "        p2 = np.exp(-3 * lmbda) * lmbda ** (3 * k - 3 * j - 2.5) / math.factorial(k) / math.factorial(k - (j + 2)) / math.factorial(k - (2 * j + 1))\n",
    "        newp = newp + p2\n",
    "probability = 6 * (newp + p) \n",
    "probability\n"
   ]
  },
  {
   "cell_type": "code",
   "execution_count": 29,
   "metadata": {
    "collapsed": false
   },
   "outputs": [
    {
     "data": {
      "text/plain": [
       "[<matplotlib.lines.Line2D at 0x118ebf668>]"
      ]
     },
     "execution_count": 29,
     "metadata": {},
     "output_type": "execute_result"
    }
   ],
   "source": [
    "lmbda = np.linspace(1, 25, 25)\n",
    "# Note that: the value that we choose for n matters.\n",
    "\n",
    "\n",
    "# I tried to run a loop for lmbda, but it does not give me the correct values, and thus I just changed lmbda manually..\n",
    "# to get that table for probability\n",
    "# Another thing to note is that, the n value that I could choose is 80, but it does not diverge a lot if i choose n = 5\n",
    "# for the loop. \n",
    "# And the probability values that I get is slightly smaller than what they get...I've checked my codes, and i do not \n",
    "# think there will be errors associated with it.\n",
    "# My maximum for lmbda is when lmbda is around 11, and a max p value is around 0.433\n",
    "probability = [0.247, 0.336, 0.367, 0.387, 0.400, 0.410, 0.417, 0.423, 0.428, 0.432, 0.433, 0.429, 0.418, 0.392, 0.353, 0.344, 0.339, 0.326, 0.299, 0.274, 0.242, 0.232, 0.231, 0.225, 0.222]           \n",
    "plt.plot(lmbda, probability)"
   ]
  },
  {
   "cell_type": "code",
   "execution_count": 30,
   "metadata": {
    "collapsed": false
   },
   "outputs": [
    {
     "name": "stdout",
     "output_type": "stream",
     "text": [
      " Lambda     p       Lambda     p       Lambda     p       Lambda     p       Lambda     p\n",
      " 1          0.247   2          0.336   3          0.367   4          0.387   5          0.400\n",
      " 6          0.410   7          0.417   8          0.423   9          0.428   10         0.432\n",
      " 11         0.433   12         0.429   13         0.418   14         0.392   15         0.353\n",
      " 16         0.344   17         0.339   18         0.326   19         0.299   20         0.274\n",
      " 21         0.242   22         0.232   23         0.231   24         0.225   25         0.222\n"
     ]
    }
   ],
   "source": [
    "print(' Lambda     p       Lambda     p       Lambda     p       Lambda     p       Lambda     p')\n",
    "print(' 1          0.247   2          0.336   3          0.367   4          0.387   5          0.400')\n",
    "print(' 6          0.410   7          0.417   8          0.423   9          0.428   10         0.432')\n",
    "print(' 11         0.433   12         0.429   13         0.418   14         0.392   15         0.353')\n",
    "print(' 16         0.344   17         0.339   18         0.326   19         0.299   20         0.274')\n",
    "print(' 21         0.242   22         0.232   23         0.231   24         0.225   25         0.222')"
   ]
  },
  {
   "cell_type": "code",
   "execution_count": null,
   "metadata": {
    "collapsed": true
   },
   "outputs": [],
   "source": []
  }
 ],
 "metadata": {
  "anaconda-cloud": {},
  "kernelspec": {
   "display_name": "Python [Root]",
   "language": "python",
   "name": "Python [Root]"
  },
  "language_info": {
   "codemirror_mode": {
    "name": "ipython",
    "version": 3
   },
   "file_extension": ".py",
   "mimetype": "text/x-python",
   "name": "python",
   "nbconvert_exporter": "python",
   "pygments_lexer": "ipython3",
   "version": "3.5.2"
  }
 },
 "nbformat": 4,
 "nbformat_minor": 0
}
