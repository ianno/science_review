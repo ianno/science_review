{
 "cells": [
  {
   "cell_type": "markdown",
   "metadata": {},
   "source": [
    "# Verification of terminal digits test\n",
    "\n",
    "Verification of the terminal digits test.\n",
    "In this case the three colony counts are considered independent\n",
    "extrations.\n",
    "The hypotesis is that the last digit of each count can be modeled\n",
    "as a draw from a uniform distribution.\n",
    "\n",
    "REMOVE ME: (This version uses the same data import of the other tests - pandas...)"
   ]
  },
  {
   "cell_type": "code",
   "execution_count": 1,
   "metadata": {
    "collapsed": false
   },
   "outputs": [],
   "source": [
    "# import numpy and matlab plot library\n",
    "\n",
    "import numpy as np\n",
    "\n",
    "%matplotlib inline \n",
    "\n",
    "import matplotlib\n",
    "import matplotlib.pyplot as plt\n",
    "\n",
    "# import panda\n",
    "import pandas as pd"
   ]
  },
  {
   "cell_type": "code",
   "execution_count": 2,
   "metadata": {
    "collapsed": true
   },
   "outputs": [],
   "source": [
    "#REMOVE ME - only one needed in the final notebook\n",
    "## List of Functions\n",
    "\n",
    "# This function takes an N by 3 matrix, sorts the matrix row wise, and then computes the ratio of (mid-min)/(max-min)\n",
    "# for each row (excludes the rows with all equal entries.)\n",
    "def compute_ratio(M):\n",
    "    M.sort(axis=1)\n",
    "    if (M.shape[1]!=3):\n",
    "        print 'Size is flawed '\n",
    "        print M.shape\n",
    "        \n",
    "    mid_min = M[:, 1] - M[:, 0]\n",
    "    max_min = M[:, 2] - M[:, 0]\n",
    "    ratio = ([mid_min[t]/max_min[t] for t in range(max_min.shape[0]) if max_min[t] !=0 ])\n",
    "    return np.asarray(ratio)\n",
    "\n",
    "# This function returns a list of last digits for an np array/ndarray input, and ignores the NAN values\n",
    "def compute_last_digit(n_arr):\n",
    "    n_arr = n_arr.flatten()\n",
    "    return [int (n%10) for n in n_arr if not(np.isnan(n))]\n",
    "\n",
    "# This function simply plots a histogram of the data (named ratio) with a given title and displays it inline.\n",
    "def plot_np_hist(ratio, s='Title', show=False):\n",
    "    plt.hist(ratio, bins=10, normed = False)\n",
    "    plt.title(s)\n",
    "    if show:\n",
    "        plt.show()\n",
    "\n",
    "# The next two functions are for obtaining histograms that look similar to the ones given in the paper. In these versions\n",
    "# since we have to include the right hand edge, I do it manually - both the computation and the plotting of the bars.\n",
    "def compute_my_histogram(ratio):\n",
    "    v = np.zeros(10)\n",
    "    N = len(ratio)\n",
    "    v[0] = np.sum([( x <= 0.1) for x in ratio])\n",
    "    for i in range(2, 11):\n",
    "        thr = float(i) /10.\n",
    "        v[i-1] = np.sum([( x <= thr and x > thr-0.1) for x in ratio])\n",
    "    v /= np.sum(v)\n",
    "    return v\n",
    "def plot_my_histogram(v, s='Title', show=False):\n",
    "    x = np.linspace(0,1,10,endpoint=False)\n",
    "    plt.bar(x, v, width=0.1)\n",
    "    plt.title(s)\n",
    "    if show:\n",
    "        plt.show()"
   ]
  },
  {
   "cell_type": "code",
   "execution_count": 20,
   "metadata": {
    "collapsed": false
   },
   "outputs": [],
   "source": [
    "# Load the datasets, with the investigator label for the data of the other labmates.\n",
    "\n",
    "rts_colony_df = pd.read_excel(\"data/Bishayee Colony Counts 10.27.97-3.8.01.xlsx\", \n",
    "                              na_values = [' '], skiprows=[0,1], parse_cols = (\"D:F\"), header = 0)   \n",
    "\n",
    "rest_colony_df = pd.read_excel(\"data/Other Investigators in Lab.Colony Counts.4.23.92-11.27.02.xlsx\", \n",
    "                               na_values = [' '], header = 0, skiprows = [0], parse_cols = (\"C:F\"))\n",
    "\n",
    "out3_colony_df = pd.read_excel(\"data/Outside Lab 3.Colony Counts.2.4.10-5.21.12.xlsx\", \n",
    "                                na_values = [' '], header = 0, skiprows = [0], parse_cols = (\"B:D\"))\n",
    "\n",
    "rts_coulter_df = pd.read_excel(\"data/Bishayee Coulter Counts.10.20.97-7.16.01.xlsx\", \n",
    "                               na_values = [' '], skiprows=[0], parse_cols = (\"C:E\"), header = 0)   \n",
    "\n",
    "rest_coulter_df = pd.read_excel(\"data/Other Investigators in Lab.Coulter Counts.4.15.92-5.21.05.xlsx\", \n",
    "                                na_values = [' '], header = 0, skiprows = [0], parse_cols = (\"C:E,G\"))\n",
    "\n",
    "out1_coulter_df = pd.read_excel(\"data/Outside Lab 1.Coulter Counts.6.7.91-4.9.99.xlsx\", \n",
    "                                na_values = [' '], header = None, skiprows = [0], parse_cols = (\"B:D\"))\n",
    "\n",
    "out2_coulter_df = pd.read_excel(\"data/Outside Lab 2.Coulter Counts.6.6.08-7.7.08.xlsx\", \n",
    "                                na_values = [' '], header = 0, skiprows = [0], parse_cols = (\"B:D\"))\n",
    "\n"
   ]
  },
  {
   "cell_type": "code",
   "execution_count": 26,
   "metadata": {
    "collapsed": false
   },
   "outputs": [
    {
     "name": "stdout",
     "output_type": "stream",
     "text": [
      "[[ 78.  91.  93.]\n",
      " [ 90.  88.  90.]\n",
      " [ 80.  66.  69.]]\n",
      "[[u'I' 266 247.0 262.0]\n",
      " [u'I' 170 151.0 156.0]\n",
      " [u'I' 66 66.0 56.0]]\n",
      "[[54 55 59]\n",
      " [47 60 47]\n",
      " [55 60 53]]\n",
      "[[ 531.  508.  541.]\n",
      " [ 650.  626.  595.]\n",
      " [ 460.  455.  468.]]\n",
      "[[1547.0 1574.0 1523.0 u'I']\n",
      " [1617.0 1552.0 1570.0 u'I']\n",
      " [1258.0 1279.0 1284.0 u'I']]\n",
      "[[ 2266.  2321.  2192.]\n",
      " [  676.   554.   478.]\n",
      " [  601.   723.   520.]]\n",
      "[[5868 5838 5691]\n",
      " [3451 3343 3315]\n",
      " [4844 4854 4695]]\n",
      "[[531.0 508.0 541.0]\n",
      " [650.0 626.0 595.0]\n",
      " [460.0 455.0 468.0]]\n",
      "[[78.0 91.0 93.0]\n",
      " [90.0 88.0 90.0]\n",
      " [80.0 66.0 69.0]]\n",
      "[[531.0 508.0 541.0]\n",
      " [650.0 626.0 595.0]\n",
      " [460.0 455.0 468.0]]\n"
     ]
    }
   ],
   "source": [
    "print rts_colony_df.values[0:3,:]\n",
    "print rest_colony_df.values[0:3,:]\n",
    "print out3_colony_df.values[0:3,:]\n",
    "print rts_coulter_df.values[0:3,:]\n",
    "print rest_coulter_df.values[0:3,:]\n",
    "print out1_coulter_df.values[0:3,:]\n",
    "print out2_coulter_df.values[0:3,:]\n",
    "\n",
    "pool_coulter = np.vstack([rts_coulter_df.values, rest_coulter_df.values[:,0:3], out1_coulter_df, out2_coulter_df])\n",
    "pool_colony = np.vstack([rts_colony_df.values, rest_colony_df.values[:,1:4], out3_colony_df])\n",
    "pool_all = np.vstack([pool_coulter, pool_colony])\n",
    "\n",
    "print pool_coulter[0:3,:]\n",
    "print pool_colony[0:3,:]\n",
    "print pool_all[0:3,:]"
   ]
  },
  {
   "cell_type": "code",
   "execution_count": 31,
   "metadata": {
    "collapsed": false
   },
   "outputs": [
    {
     "data": {
      "image/png": "[encoded data removed]",
      "text/plain": [
       "<matplotlib.figure.Figure at 0x112758510>"
      ]
     },
     "metadata": {},
     "output_type": "display_data"
    }
   ],
   "source": [
    "# In this section we plot the distribution of last digit for RTS, Rest and All of them pooled together for the Coulter\n",
    "# Data. We ignore the NAN values\n",
    "\n",
    "# Compute the last digit distribution\n",
    "rld = compute_last_digit(rts_coulter_df.values)\n",
    "rc_ld = compute_last_digit(rts_colony_df.values)\n",
    "rest_ld = compute_last_digit(rest_coulter_df.values[:,0:3])\n",
    "restc_ld = compute_last_digit(rest_colony_df.values[:,1:4])\n",
    "out1_ld = compute_last_digit(out1_coulter_df.values)\n",
    "out2_ld = compute_last_digit(out2_coulter_df.values)\n",
    "out3_ld = compute_last_digit(out3_colony_df.values)\n",
    "pool_ld = np.concatenate([rld, rc_ld, rest_ld, restc_ld, out1_ld, out2_ld, out3_ld])\n",
    "\n",
    "# Now Plot\n",
    "plt.figure(figsize=[20,8])\n",
    "plt.subplot(241)\n",
    "plot_np_hist(rc_ld, 'RTS_colony')\n",
    "plt.subplot(242)\n",
    "plot_np_hist(rld, 'RTS_Coulter')\n",
    "plt.subplot(243)\n",
    "plot_np_hist(restc_ld, 'Rest_colony')\n",
    "plt.subplot(244)\n",
    "plot_np_hist(rest_ld, 'Rest_Coulter')\n",
    "plt.subplot(245)\n",
    "plot_np_hist(out1_ld, 'Out1_Coulter')\n",
    "plt.subplot(246)\n",
    "plot_np_hist(out2_ld, 'Out2_Coulter')\n",
    "plt.subplot(247)\n",
    "plot_np_hist(out3_ld, 'Out3_colony')\n",
    "plt.subplot(248)\n",
    "plot_np_hist(pool_ld, 'Pool')\n",
    "\n",
    "plt.show()"
   ]
  },
  {
   "cell_type": "code",
   "execution_count": null,
   "metadata": {
    "collapsed": true
   },
   "outputs": [],
   "source": [
    "# Now, we decompose the rest group by the unnamed labmates, there are 9 other labmates. We plot last-digit histogram\n",
    "def cld_val(df):\n",
    "    return compute_last_digit(df.values[:,0:3])\n",
    "\n",
    "rest_grouped_ld = rest_coulter_df.groupby(\"Investigator\").apply(cld_val)\n",
    "plt.figure(figsize = [16,5])\n",
    "for j in range(rest_grouped_ld.shape[0]):\n",
    "    plt.subplot(2,6,j+1)\n",
    "    plot_np_hist(rest_grouped_ld[j], rest_grouped_ld.index[j])\n",
    "plt.subplot(2,6,10)\n",
    "plot_np_hist(rld, 'Out1_coulter')\n",
    "plt.subplot(2,6,10)\n",
    "plot_np_hist(rld, 'Out1_coulter')\n",
    "plt.subplot(2,6,10)\n",
    "plot_np_hist(rld, 'RTS_coulter')\n",
    "plt.show()"
   ]
  },
  {
   "cell_type": "code",
   "execution_count": null,
   "metadata": {
    "collapsed": true
   },
   "outputs": [],
   "source": []
  }
 ],
 "metadata": {
  "kernelspec": {
   "display_name": "Python 2",
   "language": "python",
   "name": "python2"
  },
  "language_info": {
   "codemirror_mode": {
    "name": "ipython",
    "version": 2
   },
   "file_extension": ".py",
   "mimetype": "text/x-python",
   "name": "python",
   "nbconvert_exporter": "python",
   "pygments_lexer": "ipython2",
   "version": "2.7.12"
  }
 },
 "nbformat": 4,
 "nbformat_minor": 1
}
