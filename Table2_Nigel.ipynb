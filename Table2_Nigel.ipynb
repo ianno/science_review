{
 "cells": [
  {
   "cell_type": "code",
   "execution_count": 6,
   "metadata": {
    "collapsed": false
   },
   "outputs": [
    {
     "name": "stdout",
     "output_type": "stream",
     "text": [
      "Using matplotlib backend: MacOSX\n"
     ]
    }
   ],
   "source": [
    "import numpy as np\n",
    "import pandas as pd\n",
    "import matplotlib.pyplot as plt\n",
    "import math\n",
    "%matplotlib"
   ]
  },
  {
   "cell_type": "code",
   "execution_count": 37,
   "metadata": {
    "collapsed": false
   },
   "outputs": [],
   "source": [
    "dataframe1 = pd.read_excel(\"Bishayee Colony Counts 10.27.97-3.8.01.xlsx\", na_values = [' '], header = 0, skiprows = [1,2], parse_cols = (\"D:F\"))"
   ]
  },
  {
   "cell_type": "code",
   "execution_count": 38,
   "metadata": {
    "collapsed": true
   },
   "outputs": [],
   "source": [
    "dataframe2 = pd.read_excel(\"Bishayee Coulter Counts.10.20.97-7.16.01.xlsx\", na_values = [' '], header = 0, skiprows = [1,2], parse_cols = (\"C:E\"))"
   ]
  },
  {
   "cell_type": "code",
   "execution_count": 39,
   "metadata": {
    "collapsed": true
   },
   "outputs": [],
   "source": [
    "dataframe3 = pd.read_excel(\"Other Investigators in Lab.Colony Counts.4.23.92-11.27.02.xlsx\", na_values = [' '], header = 0, skiprows = [1,2], parse_cols = (\"D:F\"))"
   ]
  },
  {
   "cell_type": "code",
   "execution_count": 40,
   "metadata": {
    "collapsed": true
   },
   "outputs": [],
   "source": [
    "dataframe4 = pd.read_excel(\"Other Investigators in Lab.Coulter Counts.4.15.92-5.21.05.xlsx\", na_values = [' '], header = 0, skiprows = [1,2], parse_cols = (\"D:F\"))"
   ]
  },
  {
   "cell_type": "code",
   "execution_count": 41,
   "metadata": {
    "collapsed": true
   },
   "outputs": [],
   "source": [
    "dataframe5 = pd.read_excel(\"Outside Lab 1.Coulter Counts.6.7.91-4.9.99.xlsx\", na_values = [' '], header = 0, skiprows = [1,2], parse_cols = (\"B:D\"))"
   ]
  },
  {
   "cell_type": "code",
   "execution_count": 42,
   "metadata": {
    "collapsed": false
   },
   "outputs": [],
   "source": [
    "dataframe6 = pd.read_excel(\"Outside Lab 2.Coulter Counts.6.6.08-7.7.08.xlsx\", na_values = [' '], header = 0,skiprows = [1,2], parse_cols = (\"B:D\"))"
   ]
  },
  {
   "cell_type": "code",
   "execution_count": 43,
   "metadata": {
    "collapsed": false
   },
   "outputs": [],
   "source": [
    "dataframe7 = pd.read_excel(\"Outside Lab 3.Colony Counts.2.4.10-5.21.12.xlsx\", na_values = [' '], header = 0, skiprows = [1,2], parse_cols = (\"B:D\"))"
   ]
  },
  {
   "cell_type": "code",
   "execution_count": 54,
   "metadata": {
    "collapsed": false
   },
   "outputs": [
    {
     "name": "stdout",
     "output_type": "stream",
     "text": [
      "690\n",
      "1343\n",
      "80.5532696547\n",
      "86.9963262307\n",
      "94.1249081558\n"
     ]
    },
    {
     "data": {
      "text/plain": [
       "80.553269654665684"
      ]
     },
     "execution_count": 54,
     "metadata": {},
     "output_type": "execute_result"
    }
   ],
   "source": [
    "# RTS Colonies\n",
    "data = dataframe1.dropna(axis = 0)\n",
    "data = data.as_matrix()\n",
    "data.sort(axis = 1) #sort the columns based on the values to get min, median and max\n",
    "\n",
    "col1 = data[:,0]\n",
    "col2 = data[:,1]\n",
    "col3 = data[:,2]\n",
    "#col4 = data[:,3]\n",
    "gap = col3 - col1\n",
    "\n",
    "\n",
    "j = 0\n",
    "for i in range(0, len(gap)):\n",
    "    if gap[i] < 2:\n",
    "        j = j + 1\n",
    "k = np.linspace(1, 1, j)\n",
    "j = -1\n",
    "for i in range(0, len(gap)):\n",
    "    if gap[i] < 2:\n",
    "        j = j + 1\n",
    "        k[j] = i\n",
    "data = np.delete(data, k, 0)\n",
    "newcol1 = data[:,0]\n",
    "newcol2 = data[:,1]\n",
    "newcol3 = data[:,2]\n",
    "len(data)\n",
    "# This is to count the No.Mean\n",
    "count = 0\n",
    "for i in range(len(newcol1)):\n",
    "    # To note that: if we do round, then we got total different values\n",
    "    # newcol2[i] == round((newcol1[i] + newcol3[i])/2)\n",
    "    if math.fabs(2 * newcol2[i] - newcol1[i] - newcol3[i]) < 2:\n",
    "        count = count + 1 \n",
    "print(count)\n",
    "print(len(data))\n",
    "print(np.mean(col1))\n",
    "print(np.mean(col2))\n",
    "print(np.mean(col3))\n",
    "(np.mean(col1) + np.mean(col1)  + np.mean(col1))/3"
   ]
  },
  {
   "cell_type": "code",
   "execution_count": 56,
   "metadata": {
    "collapsed": false
   },
   "outputs": [
    {
     "name": "stdout",
     "output_type": "stream",
     "text": [
      "109\n",
      "577\n",
      "72.5755033557\n",
      "79.216442953\n",
      "86.3238255034\n"
     ]
    }
   ],
   "source": [
    "# Colonies others\n",
    "data = dataframe3.dropna(axis = 0)\n",
    "data = data.as_matrix()\n",
    "data.sort(axis = 1) #sort the columns based on the values to get min, median and max\n",
    "\n",
    "col1 = data[:,0]\n",
    "col2 = data[:,1]\n",
    "col3 = data[:,2]\n",
    "\n",
    "gap = col3 - col1\n",
    "\n",
    "\n",
    "j = 0\n",
    "for i in range(0, len(gap)):\n",
    "    if gap[i] < 2:\n",
    "        j = j + 1\n",
    "k = np.linspace(1, 1, j)\n",
    "j = -1\n",
    "for i in range(0, len(gap)):\n",
    "    if gap[i] < 2:\n",
    "        j = j + 1\n",
    "        k[j] = i\n",
    "data = np.delete(data, k, 0)\n",
    "newcol1 = data[:,0]\n",
    "newcol2 = data[:,1]\n",
    "newcol3 = data[:,2]\n",
    "len(data)\n",
    "# This is to count the No.Mean\n",
    "count = 0\n",
    "for i in range(len(newcol1)):\n",
    "    if math.fabs(2 * newcol2[i] - newcol1[i] - newcol3[i]) < 2:\n",
    "        count = count + 1 \n",
    "print(count)\n",
    "print(len(data))\n",
    "print(np.mean(col1))\n",
    "print(np.mean(col2))\n",
    "print(np.mean(col3))"
   ]
  },
  {
   "cell_type": "code",
   "execution_count": 57,
   "metadata": {
    "collapsed": false
   },
   "outputs": [
    {
     "name": "stdout",
     "output_type": "stream",
     "text": [
      "3\n",
      "48\n",
      "65.6734693878\n",
      "69.693877551\n",
      "76.3265306122\n"
     ]
    }
   ],
   "source": [
    "# RTS Outside Lab1\n",
    "data = dataframe7.dropna(axis = 0)\n",
    "data = data.as_matrix()\n",
    "data.sort(axis = 1) #sort the columns based on the values to get min, median and max\n",
    "\n",
    "col1 = data[:,0]\n",
    "col2 = data[:,1]\n",
    "col3 = data[:,2]\n",
    "np.mean\n",
    "gap = col3 - col1\n",
    "\n",
    "\n",
    "j = 0\n",
    "for i in range(0, len(gap)):\n",
    "    if gap[i] < 2:\n",
    "        j = j + 1\n",
    "k = np.linspace(1, 1, j)\n",
    "j = -1\n",
    "for i in range(0, len(gap)):\n",
    "    if gap[i] < 2:\n",
    "        j = j + 1\n",
    "        k[j] = i\n",
    "data = np.delete(data, k, 0)\n",
    "newcol1 = data[:,0]\n",
    "newcol2 = data[:,1]\n",
    "newcol3 = data[:,2]\n",
    "len(data)\n",
    "# This is to count the No.Mean\n",
    "count = 0\n",
    "for i in range(len(newcol1)):\n",
    "    if math.fabs(2 * newcol2[i] - newcol1[i] - newcol3[i]) < 2:\n",
    "        count = count + 1 \n",
    "print(count)\n",
    "print(len(data))\n",
    "print(np.mean(col1))\n",
    "print(np.mean(col2))\n",
    "print(np.mean(col3))"
   ]
  },
  {
   "cell_type": "code",
   "execution_count": 58,
   "metadata": {
    "collapsed": false
   },
   "outputs": [
    {
     "name": "stdout",
     "output_type": "stream",
     "text": [
      "176\n",
      "1725\n",
      "998.59212051\n",
      "1019.24449594\n",
      "1039.81402086\n"
     ]
    }
   ],
   "source": [
    "# Coulter RTS\n",
    "data = dataframe2.dropna(axis = 0)\n",
    "data = data.as_matrix()\n",
    "data.sort(axis = 1) #sort the columns based on the values to get min, median and max\n",
    "\n",
    "col1 = data[:,0]\n",
    "col2 = data[:,1]\n",
    "col3 = data[:,2]\n",
    "\n",
    "gap = col3 - col1\n",
    "\n",
    "\n",
    "j = 0\n",
    "for i in range(0, len(gap)):\n",
    "    if gap[i] < 2:\n",
    "        j = j + 1\n",
    "k = np.linspace(1, 1, j)\n",
    "j = -1\n",
    "for i in range(0, len(gap)):\n",
    "    if gap[i] < 2:\n",
    "        j = j + 1\n",
    "        k[j] = i\n",
    "data = np.delete(data, k, 0)\n",
    "newcol1 = data[:,0]\n",
    "newcol2 = data[:,1]\n",
    "newcol3 = data[:,2]\n",
    "len(data)\n",
    "# This is to count the No.Mean\n",
    "count = 0\n",
    "for i in range(len(newcol1)):\n",
    "    if math.fabs(2 * newcol2[i] - newcol1[i] - newcol3[i]) < 2:\n",
    "        count = count + 1 \n",
    "print(count)\n",
    "print(len(data))\n",
    "print(np.mean(col1))\n",
    "print(np.mean(col2))\n",
    "print(np.mean(col3))"
   ]
  },
  {
   "cell_type": "code",
   "execution_count": 64,
   "metadata": {
    "collapsed": false
   },
   "outputs": [
    {
     "name": "stdout",
     "output_type": "stream",
     "text": [
      "73\n",
      "928\n",
      "2918.56907069\n",
      "2966.46268389\n",
      "3012.51166128\n"
     ]
    }
   ],
   "source": [
    "# Coulter Others\n",
    "data = dataframe4.dropna(axis = 0)\n",
    "data = data.as_matrix()\n",
    "data.sort(axis = 1) #sort the columns based on the values to get min, median and max\n",
    "\n",
    "col1 = data[:,0]\n",
    "col2 = data[:,1]\n",
    "col3 = data[:,2]\n",
    "\n",
    "gap = col3 - col1\n",
    "\n",
    "\n",
    "j = 0\n",
    "for i in range(0, len(gap)):\n",
    "    if gap[i] < 2:\n",
    "        j = j + 1\n",
    "k = np.linspace(1, 1, j)\n",
    "j = -1\n",
    "for i in range(0, len(gap)):\n",
    "    if gap[i] < 2:\n",
    "        j = j + 1\n",
    "        k[j] = i\n",
    "data = np.delete(data, k, 0)\n",
    "newcol1 = data[:,0]\n",
    "newcol2 = data[:,1]\n",
    "newcol3 = data[:,2]\n",
    "len(data)\n",
    "# This is to count the No.Mean\n",
    "count = 0\n",
    "for i in range(len(newcol1)):\n",
    "    if math.fabs(2 * newcol2[i] - newcol1[i] - newcol3[i]) < 2:\n",
    "        count = count + 1 \n",
    "print(count)\n",
    "print(len(data))\n",
    "print(np.mean(col1))\n",
    "print(np.mean(col2))\n",
    "print(np.mean(col3))\n"
   ]
  },
  {
   "cell_type": "code",
   "execution_count": 65,
   "metadata": {
    "collapsed": false
   },
   "outputs": [
    {
     "name": "stdout",
     "output_type": "stream",
     "text": [
      "0\n",
      "95\n",
      "2135.23157895\n",
      "2454.44210526\n",
      "2748.2\n"
     ]
    }
   ],
   "source": [
    "# Coulter Other lab2\n",
    "data = dataframe5.dropna(axis = 0)\n",
    "data = data.as_matrix()\n",
    "data.sort(axis = 1) #sort the columns based on the values to get min, median and max\n",
    "\n",
    "col1 = data[:,0]\n",
    "col2 = data[:,1]\n",
    "col3 = data[:,2]\n",
    "\n",
    "gap = col3 - col1\n",
    "\n",
    "\n",
    "j = 0\n",
    "for i in range(0, len(gap)):\n",
    "    if gap[i] < 2:\n",
    "        j = j + 1\n",
    "k = np.linspace(1, 1, j)\n",
    "j = -1\n",
    "for i in range(0, len(gap)):\n",
    "    if gap[i] < 2:\n",
    "        j = j + 1\n",
    "        k[j] = i\n",
    "data = np.delete(data, k, 0)\n",
    "newcol1 = data[:,0]\n",
    "newcol2 = data[:,1]\n",
    "newcol3 = data[:,2]\n",
    "len(data)\n",
    "# This is to count the No.Mean\n",
    "count = 0\n",
    "for i in range(len(newcol1)):\n",
    "    if math.fabs(2 * newcol2[i] - newcol1[i] - newcol3[i]) < 2:\n",
    "        count = count + 1 \n",
    "print(count)\n",
    "print(len(data))\n",
    "print(np.mean(col1))\n",
    "print(np.mean(col2))\n",
    "print(np.mean(col3))"
   ]
  },
  {
   "cell_type": "code",
   "execution_count": 66,
   "metadata": {
    "collapsed": false
   },
   "outputs": [
    {
     "name": "stdout",
     "output_type": "stream",
     "text": [
      "1\n",
      "118\n",
      "3322.08474576\n",
      "3383.43220339\n",
      "3450.10169492\n"
     ]
    }
   ],
   "source": [
    "# Coutler Outside lab 3\n",
    "# Coulter Others\n",
    "data = dataframe6.dropna(axis = 0)\n",
    "data = data.as_matrix()\n",
    "data.sort(axis = 1) #sort the columns based on the values to get min, median and max\n",
    "\n",
    "col1 = data[:,0]\n",
    "col2 = data[:,1]\n",
    "col3 = data[:,2]\n",
    "\n",
    "gap = col3 - col1\n",
    "\n",
    "\n",
    "j = 0\n",
    "for i in range(0, len(gap)):\n",
    "    if gap[i] < 2:\n",
    "        j = j + 1\n",
    "k = np.linspace(1, 1, j)\n",
    "j = -1\n",
    "for i in range(0, len(gap)):\n",
    "    if gap[i] < 2:\n",
    "        j = j + 1\n",
    "        k[j] = i\n",
    "data = np.delete(data, k, 0)\n",
    "newcol1 = data[:,0]\n",
    "newcol2 = data[:,1]\n",
    "newcol3 = data[:,2]\n",
    "len(data)\n",
    "# This is to count the No.Mean\n",
    "count = 0\n",
    "for i in range(len(newcol1)):\n",
    "    if math.fabs(2 * newcol2[i] - newcol1[i] - newcol3[i]) < 2:\n",
    "        count = count + 1 \n",
    "print(count)\n",
    "print(len(data))\n",
    "print(np.mean(col1))\n",
    "print(np.mean(col2))\n",
    "print(np.mean(col3))"
   ]
  },
  {
   "cell_type": "code",
   "execution_count": 67,
   "metadata": {
    "collapsed": false
   },
   "outputs": [
    {
     "name": "stdout",
     "output_type": "stream",
     "text": [
      "No.Expected \n",
      "189.363\n",
      "85.01133333333333\n",
      "7.4559999999999995\n",
      "0.0\n",
      "0.0\n",
      "0.0\n",
      "0.0\n",
      "sd\n",
      "12.753055856016106\n",
      "8.51320515434698\n",
      "2.5093871761846556\n",
      "0.0\n",
      "0.0\n",
      "0.0\n",
      "0.0\n"
     ]
    }
   ],
   "source": [
    "\n",
    "# After we got all the mean for each of the col, and we went back to our Lmbda-Probability table, to get the \n",
    "# probability value, which is used to calculate the miu and sd for No.Expected\n",
    "# These numbers are to calculate the No_Expected\n",
    "\n",
    "#### These are not very trustable, as I got totally different lmbda-probabilty values. But the procedure is correct\n",
    "print(\"No.Expected \")\n",
    "print(1343/3 * (0.146 + 0.141 + 0.136)) # 80.55 86.99 94.12\n",
    "print(577/3 * (0.153 + 0.147 + 0.142)) # 72.57 79.22 86.32\n",
    "print(48/3 * (0.160 + 0.156 + 0.150 )) # 65.67 69.69 76.32\n",
    "\n",
    "## When Lmbda is very large, my computer over flows, and thus could not give a real probability number\n",
    "print(1725/3 *(0.000 + 0.000 + 0.000)) # 998.59 1019.2 1039.81 \n",
    "print(928/3 *(0.000 + 0.000 + 0.000)) # 2918.57 2966.46 3012.51\n",
    "print(95/3 *(0.000 + 0.000 + 0.000)) # 2135.2 2454.4 2748.2\n",
    "print(118/3 *(0.000 + 0.000 + 0.000)) # 3322.08 3383.43 3450.10\n",
    "\n",
    "# Thses numbers are to calculate the sd\n",
    "print(\"sd\")\n",
    "print(math.sqrt(1343/3 * 0.146 * (1 - 0.146) + 1343/3 * 0.141 * (1 - 0.141) + 1343/3 * 0.136 * (1 - 0.136)))\n",
    "print(math.sqrt(577/3 * 0.153 * (1 - 0.153) + 577/3 * 0.147 * (1 - 0.147) + 577/3 * 0.142 * (1 - 0.142)))\n",
    "print(math.sqrt(48/3 * 0.160 * (1 - 0.160) + 48/3 * 0.156 * (1 - 0.156) + 48/3 * 0.150 * (1 - 0.150)))\n",
    "print(math.sqrt(1725/3 * 0.000 * (1 - 0.000) + 725/3 * 0.000 * (1 - 0.000) + 1725/3 * 0.000 * (1 - 0.000)))\n",
    "print(math.sqrt(928/3 * 0.000 * (1 - 0.000) + 928/3 * 0.000 * (1 - 0.000) + 928/3 * 0.000 * (1 - 0.000)))\n",
    "print(math.sqrt(95/3 * 0.000 * (1 - 0.000) + 95/3 * 0.000 * (1 - 0.000) + 95/3 * 0.000 * (1 - 0.000)))\n",
    "print(math.sqrt(118/3 * 0.000 * (1 - 0.000) + 118/3 * 0.000 * (1 - 0.000) + 118/3 * 0.000 * (1 - 0.000)))\n",
    "\n",
    "print('if we use a linear regression for the lambda-probabilities for those Coutlers')\n",
    "print(math.sqrt(1725/3 * 0.042 * (1 - 0.042) + 725/3 * 0.039 * (1 - 0.039) + 1725/3 * 0.040 * (1 - 0.040)))\n",
    "print(math.sqrt(928/3 * 0.013 * (1 - 0.013) + 928/3 * 0.013 * (1 - 0.013) + 928/3 * 0.011 * (1 - 0.011)))\n",
    "print(math.sqrt(95/3 * 0.028 * (1 - 0.028) + 95/3 * 0.022 * (1 - 0.022) + 95/3 * 0.019 * (1 - 0.019)))\n",
    "print(math.sqrt(118/3 * 0.011 * (1 - 0.011) + 118/3 * 0.010 * (1 - 0.010) + 118/3 * 0.009 * (1 - 0.009)))\n"
   ]
  },
  {
   "cell_type": "code",
   "execution_count": 68,
   "metadata": {
    "collapsed": false
   },
   "outputs": [],
   "source": [
    "No_Complete = np.array([1343, 577, 48, 1725, 928, 95, 118])\n",
    "No_Mean = np.array([485, 76, 3, 113, 28, 0, 1])\n",
    "No_Expected = np.array([ 189.363, 85.01, 7.46, 0, 0, 0, 0])\n",
    "sd = np.array([12.75, 8.51, 2.51, 0, 0, 0, 0])"
   ]
  },
  {
   "cell_type": "code",
   "execution_count": 69,
   "metadata": {
    "collapsed": false
   },
   "outputs": [
    {
     "name": "stdout",
     "output_type": "stream",
     "text": [
      "Z score: [ 23.18721569  -1.05875441  -1.77689243          inf          inf\n",
      "          nan          inf]\n"
     ]
    }
   ],
   "source": [
    "Z = (No_Mean - No_Expected) / sd\n",
    "print(\"Z score:\", Z)"
   ]
  },
  {
   "cell_type": "code",
   "execution_count": 70,
   "metadata": {
    "collapsed": false
   },
   "outputs": [
    {
     "name": "stdout",
     "output_type": "stream",
     "text": [
      "[ 0.          0.85514418  0.96220703  0.          0.                 nan\n",
      "  0.        ]\n"
     ]
    }
   ],
   "source": [
    "# From the Z value we get, we could be able to find the corresponding p >= k value\n",
    "import scipy.stats as st\n",
    "p_k = 1 - st.norm.cdf(Z)\n",
    "print(p_k)"
   ]
  },
  {
   "cell_type": "code",
   "execution_count": 100,
   "metadata": {
    "collapsed": false
   },
   "outputs": [
    {
     "ename": "IndentationError",
     "evalue": "unexpected indent (<ipython-input-100-0624fe4440b0>, line 6)",
     "output_type": "error",
     "traceback": [
      "\u001b[0;36m  File \u001b[0;32m\"<ipython-input-100-0624fe4440b0>\"\u001b[0;36m, line \u001b[0;32m6\u001b[0m\n\u001b[0;31m    ['RTS Colonies', 1343, 485, 207.27, 13.24, 20.98, 0.00],\u001b[0m\n\u001b[0m    ^\u001b[0m\n\u001b[0;31mIndentationError\u001b[0m\u001b[0;31m:\u001b[0m unexpected indent\n"
     ]
    }
   ],
   "source": [
    "#A problem with the version of python that this does not work\n",
    "#Plot the table \n",
    "#import plotly as py\n",
    "#from plotly.tools import FigureFactory as FF\n",
    "\n",
    "#DataMatrix = [['Name','No.Complete', 'No.mean', 'No.expected', 'Sd', 'Z', 'p>= k'],\n",
    "#         ['RTS Colonies', 1343, 485, 207.27, 13.24, 20.98, 0.00],\n",
    "#         ['Others Coloniess', 577, 76, 92.7, -1.89, -1.89, 0.971],\n",
    "#         ['Outside Lab1 Colony', 48, 3, 8.0, 2.58, -1.94, 0.974],\n",
    "#         ['RTS Coulter', 1725, 113, 69.58, 7.37, 5.89, 1.01e-9],\n",
    "#        ['Others Coutler', 928, 28, 11.44, 3.36, 4.93, 4.14e-7],\n",
    "#         ['Outside Lab2 Coutler', 95, 0, 2.19, 1.46, -1.5, 0.933],\n",
    "#         ['Outside Lab3 Coutler', 118, 1, 1.18, 1.08, -0.17, 0.566]]\n",
    "#Table = FF.create_table(DataMatrix)\n",
    "#py.iplot(Table, filename='simple_table')"
   ]
  },
  {
   "cell_type": "code",
   "execution_count": 72,
   "metadata": {
    "collapsed": false
   },
   "outputs": [
    {
     "name": "stdout",
     "output_type": "stream",
     "text": [
      "                                       New \"Round\" value for Colony\n",
      "Name                No.Complete      No.mean        No.expected       Sd           Z          p>= k\n",
      "RTS Colonies,          1343            690            207.27         13.24        23.19       0.00\n",
      "Others Coloniess       577             109            92.7           8.82         -1.06       0.855\n",
      "Outside Lab1 Colony    48              3              8.0            2.58         -1.78       0.962\n",
      "Coutler lambda is too large to calculate those statistics. \n",
      "                         \n",
      "            Linear combination for probability values when lambda is very large. Coutler \n",
      "RTS Coulter            1725            176            69.58          7.37         5.89        1.01e-9\n",
      "Others Coutler         928             73             11.44          3.36         4.93        4.14e-7\n",
      "Outside Lab2 Coutler   95              0              2.19           1.46         -1.5        0.933\n",
      "Outside Lab3 Coutler   118             1              1.18           1.08         -0.17       0.566\n"
     ]
    }
   ],
   "source": [
    "print('                                       New \"Round\" value for Colony')\n",
    "print('Name                No.Complete      No.mean        No.expected       Sd           Z          p>= k')\n",
    "print('RTS Colonies,          1343            690            207.27         13.24        23.19       0.00')\n",
    "print('Others Coloniess       577             109            92.7           8.82         -1.06       0.855')\n",
    "print('Outside Lab1 Colony    48              3              8.0            2.58         -1.78       0.962')\n",
    "print('Coutler lambda is too large to calculate those statistics. ')\n",
    "\n",
    "print('                         ')\n",
    "print('            Linear combination for probability values when lambda is very large. Coutler ')\n",
    "print('RTS Coulter            1725            176            69.58          7.37         5.89        1.01e-9')\n",
    "print('Others Coutler         928             73             11.44          3.36         4.93        4.14e-7')\n",
    "print('Outside Lab2 Coutler   95              0              2.19           1.46         -1.5        0.933')\n",
    "print('Outside Lab3 Coutler   118             1              1.18           1.08         -0.17       0.566')"
   ]
  },
  {
   "cell_type": "markdown",
   "metadata": {
    "collapsed": true
   },
   "source": [
    "From this section, "
   ]
  }
 ],
 "metadata": {
  "anaconda-cloud": {},
  "kernelspec": {
   "display_name": "Python [Root]",
   "language": "python",
   "name": "Python [Root]"
  },
  "language_info": {
   "codemirror_mode": {
    "name": "ipython",
    "version": 3
   },
   "file_extension": ".py",
   "mimetype": "text/x-python",
   "name": "python",
   "nbconvert_exporter": "python",
   "pygments_lexer": "ipython3",
   "version": "3.5.2"
  }
 },
 "nbformat": 4,
 "nbformat_minor": 0
}
