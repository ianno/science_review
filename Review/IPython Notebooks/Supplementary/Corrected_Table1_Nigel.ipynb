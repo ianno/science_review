{
 "cells": [
  {
   "cell_type": "markdown",
   "metadata": {},
   "source": [
    "# Hypothesis testing tables"
   ]
  },
  {
   "cell_type": "code",
   "execution_count": 4,
   "metadata": {
    "collapsed": false
   },
   "outputs": [
    {
     "name": "stderr",
     "output_type": "stream",
     "text": [
      "/Users/NigelKinney/anaconda/lib/python3.5/site-packages/numexpr/cpuinfo.py:76: UserWarning: [Errno 2] No such file or directory: 'sysctl'\n",
      "  stacklevel=stacklevel + 1):\n"
     ]
    },
    {
     "name": "stdout",
     "output_type": "stream",
     "text": [
      "Using matplotlib backend: MacOSX\n"
     ]
    }
   ],
   "source": [
    "import numpy as np\n",
    "import pandas as pd\n",
    "import math\n",
    "import matplotlib.pyplot as plt\n",
    "%matplotlib\n"
   ]
  },
  {
   "cell_type": "code",
   "execution_count": 2,
   "metadata": {
    "collapsed": false
   },
   "outputs": [
    {
     "name": "stdout",
     "output_type": "stream",
     "text": [
      "0.149001181243\n"
     ]
    }
   ],
   "source": [
    "lmbda = 65.55 # Could do 1 -> 25\n",
    "def compiuted_\n",
    "n = 80\n",
    "p = 0\n",
    "for i in range(2, n):\n",
    "    for k in range(i,n):\n",
    "        p1 = lmbda ** (2*k - i) * np.exp(-2 * lmbda) / math.factorial(k-i) / math.factorial(k)\n",
    "        p2 = lmbda ** (k - int(i/2)) * np.exp(-lmbda) / math.factorial(k-int(i/2))\n",
    "        if i % 2 == 1:\n",
    "            p3 = lmbda ** (k - int(i/2) - 1) * np.exp(-lmbda) / math.factorial(k-int(i/2)-1)\n",
    "        if i % 2 == 0:\n",
    "            p3 = 0\n",
    "        p = p + p1*(p2+p3)\n",
    "probability = p * 6\n",
    "            \n",
    "print(probability)           "
   ]
  },
  {
   "cell_type": "code",
   "execution_count": 24,
   "metadata": {
    "collapsed": false
   },
   "outputs": [
    {
     "name": "stdout",
     "output_type": "stream",
     "text": [
      "Lambda \t P\n",
      "1 0.267029869205\n",
      "2 0.386975387941\n",
      "3 0.402969086426\n",
      "4 0.396686628791\n",
      "5 0.384823009962\n",
      "6 0.371890595183\n",
      "7 0.359303886559\n",
      "8 0.347505518663\n",
      "9 0.336596913051\n",
      "10 0.326554744058\n",
      "11 0.317312364726\n",
      "12 0.308791975986\n",
      "13 0.30091738695\n",
      "14 0.293618741409\n",
      "15 0.286833844934\n",
      "16 0.280508071555\n",
      "17 0.274593719572\n",
      "18 0.269049201613\n",
      "19 0.263838235916\n",
      "20 0.258929105883\n",
      "21 0.254294009084\n",
      "22 0.249908495766\n",
      "23 0.245750986063\n",
      "24 0.241802345174\n",
      "25 0.238045477682\n"
     ]
    }
   ],
   "source": [
    "def p_value(lmbda, n):\n",
    "    p = 0\n",
    "    for i in range(2, n):\n",
    "        for k in range(i, n):\n",
    "            logp1 = (2*k - i) * math.log(lmbda) - 2 * lmbda - math.log(math.factorial(k-i)) - math.log(math.factorial(k))\n",
    "            logp2 = (k - int(i/2)) * math.log(lmbda) - lmbda - math.log(math.factorial(k-int(i/2)))\n",
    "            if i % 2 == 1:\n",
    "                logp3 = (k - int(i/2) - 1)* math.log(lmbda) - lmbda - math.log(math.factorial(k - int(i/2) -1))\n",
    "                p3 = np.exp(logp3)\n",
    "            if i % 2 == 0:\n",
    "                p3 = 0\n",
    "            p1 = np.exp(logp1)\n",
    "            p2 = np.exp(logp2)\n",
    "            p = p + p1*(p2+p3)\n",
    "    probability = p * 6   \n",
    "    return probability\n",
    "\n",
    "print(\"Lambda \\t P\")\n",
    "for i in range(1, 26):\n",
    "    print(i,p_value(i, 50))\n",
    "\n",
    "\n"
   ]
  },
  {
   "cell_type": "code",
   "execution_count": 47,
   "metadata": {
    "collapsed": false
   },
   "outputs": [
    {
     "name": "stdout",
     "output_type": "stream",
     "text": [
      " Lambda     p       Lambda     p       Lambda     p       Lambda     p       Lambda     p\n",
      " 1          0.267   2          0.387   3          0.403   4          0.397   5          0.385\n",
      " 6          0.372   7          0.359   8          0.348   9          0.337   10         0.327\n",
      " 11         0.317   12         0.309   13         0.030   14         0.294   15         0.287\n",
      " 16         0.281   17         0.275   18         0.269   19         0.264   20         0.259\n",
      " 21         0.254   22         0.250   23         0.246   24         0.242   25         0.238\n"
     ]
    }
   ],
   "source": [
    "print(' Lambda     p       Lambda     p       Lambda     p       Lambda     p       Lambda     p')\n",
    "print(' 1          0.267   2          0.387   3          0.403   4          0.397   5          0.385')\n",
    "print(' 6          0.372   7          0.359   8          0.348   9          0.337   10         0.327')\n",
    "print(' 11         0.317   12         0.309   13         0.030   14         0.294   15         0.287')\n",
    "print(' 16         0.281   17         0.275   18         0.269   19         0.264   20         0.259')\n",
    "print(' 21         0.254   22         0.250   23         0.246   24         0.242   25         0.238')"
   ]
  },
  {
   "cell_type": "code",
   "execution_count": null,
   "metadata": {
    "collapsed": true
   },
   "outputs": [],
   "source": []
  }
 ],
 "metadata": {
  "anaconda-cloud": {},
  "kernelspec": {
   "display_name": "Python 2",
   "language": "python",
   "name": "python2"
  },
  "language_info": {
   "codemirror_mode": {
    "name": "ipython",
    "version": 2
   },
   "file_extension": ".py",
   "mimetype": "text/x-python",
   "name": "python",
   "nbconvert_exporter": "python",
   "pygments_lexer": "ipython2",
   "version": "2.7.12"
  }
 },
 "nbformat": 4,
 "nbformat_minor": 0
}
