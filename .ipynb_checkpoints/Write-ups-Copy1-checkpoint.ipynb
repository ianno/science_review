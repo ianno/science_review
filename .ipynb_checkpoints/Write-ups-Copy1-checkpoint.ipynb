{
 "cells": [
  {
   "cell_type": "markdown",
   "metadata": {},
   "source": [
    "Review of paper \n",
    "\n",
    "1. Introduction\n",
    "\n",
    "2. Summary\n",
    "\n",
    "3. Replication\n",
    "\n",
    "4. Beyond the paper\n",
    "\n",
    "5. Conclusion"
   ]
  },
  {
   "cell_type": "markdown",
   "metadata": {},
   "source": [
    "# 1. Introduction\n",
    "\n",
    "This paper reviews some necessary considerations of the published paper \"Statistical analysis of numerical preclinical radiobiological data\". Scientific fraud and data manipulation have become more and more serious problems for scientific researchers. Statistical models to identigy potential data fabrication needs to be utilized more, which could help to determine data fabrication and falsification, suspected fraud, duplicate publication, and plagiarism [Ref_1]. Specifically for radiobiological experiment results in data sets consists of triplicate counts where the means of the triples are the key values in subsequent analyses. Potentially, researchers would be likely to manipulate the data to guide the results of such experiments, so that the average values could be within a desired region. And thus, in this manner, mid-ratio ( the ratio of the difference between the middle value and the smallest value to the difference between the largest value and the smallest value was close to 0.5 or an unusually large number of triples that actually include their own (rounded) mean as one of their values) [Ref_2]. The least significant (rightmost) digits of radiobiological data have been expected to follow a uniform distribution, which could be applied to detect if there is any fraud in the data provided by other researchers, when the least significant digit does not follow that behavior. Similar expections of equal digits of non-important digit could also applied to detect fraud and manuulay manipulated data by data. By doing that, researchers made several assumptions, such as a Poisson distribution model was used to probabilistically correspond the number of cells from tripicates, which were validated by data sets from other researchers.  \n",
    "\n",
    "In this review paper, we replicated the statistical experiments conducted by these researchers to have a better understanding of their philosophy to determine data frauds. In addition, the underlying assumptions were checked by us to show if that subjectively introduced assumptions's effects on the outcome of the test statistics. A cross-validation process was also applied to check the difference between the grouped data and individual data sets. Hypothesis testings were also applied by using different models to show the effectiveness of the models that were used by researchers to detect data fraud. By way of doing this, we are able to test the effectiveness of the statistical experiments provided by these researchers, and also provide additional reasonable assumptions, which is much closer to real life situations.\n",
    "\n",
    "\n"
   ]
  },
  {
   "cell_type": "markdown",
   "metadata": {},
   "source": [
    "# 2. Summary"
   ]
  },
  {
   "cell_type": "markdown",
   "metadata": {},
   "source": [
    "# 3. Replication\n",
    "\n",
    "In this section, we replicated the statistical experiments that were conducted by the researchers. It follows an order of: 3.1 Mid-Ratio Analysis; 3.2 Hypothesis Testing I - a nonparametric test; 3.3 Hypothesis testing II - using lambda to obtain p-values; 3.4 Hypothesis testing III - normal estimation of p-values; 3.5 Terminal digit analysis; 3.6 Equal digit analysis. "
   ]
  },
  {
   "cell_type": "markdown",
   "metadata": {},
   "source": [
    "# 3.1 Mid-Ratio Analysis"
   ]
  },
  {
   "cell_type": "code",
   "execution_count": null,
   "metadata": {
    "collapsed": true
   },
   "outputs": [],
   "source": []
  }
 ],
 "metadata": {
  "anaconda-cloud": {},
  "kernelspec": {
   "display_name": "Python 2",
   "language": "python",
   "name": "python2"
  },
  "language_info": {
   "codemirror_mode": {
    "name": "ipython",
    "version": 2
   },
   "file_extension": ".py",
   "mimetype": "text/x-python",
   "name": "python",
   "nbconvert_exporter": "python",
   "pygments_lexer": "ipython2",
   "version": "2.7.11"
  }
 },
 "nbformat": 4,
 "nbformat_minor": 0
}
