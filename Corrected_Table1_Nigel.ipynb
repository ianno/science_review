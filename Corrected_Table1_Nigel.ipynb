{
 "cells": [
  {
   "cell_type": "markdown",
   "metadata": {},
   "source": [
    "# Hypothesis testing tables"
   ]
  },
  {
   "cell_type": "code",
   "execution_count": 1,
   "metadata": {
    "collapsed": false
   },
   "outputs": [
    {
     "name": "stderr",
     "output_type": "stream",
     "text": [
      "/usr/local/lib/python2.7/site-packages/matplotlib/font_manager.py:273: UserWarning: Matplotlib is building the font cache using fc-list. This may take a moment.\n",
      "  warnings.warn('Matplotlib is building the font cache using fc-list. This may take a moment.')\n"
     ]
    },
    {
     "name": "stdout",
     "output_type": "stream",
     "text": [
      "Using matplotlib backend: MacOSX\n"
     ]
    }
   ],
   "source": [
    "import numpy as np\n",
    "import pandas as pd\n",
    "import math\n",
    "import matplotlib.pyplot as plt\n",
    "%matplotlib\n"
   ]
  },
  {
   "cell_type": "code",
   "execution_count": 2,
   "metadata": {
    "collapsed": false
   },
   "outputs": [
    {
     "name": "stdout",
     "output_type": "stream",
     "text": [
      "1.92191054182e-07\n"
     ]
    }
   ],
   "source": [
    "lmbda = 80 # Could do 1 -> 25\n",
    "\n",
    "n = 60\n",
    "p = 0\n",
    "for i in range(2, n):\n",
    "    for k in range(i,n):\n",
    "        p1 = lmbda ** (2*k - i) * np.exp(-2 * lmbda) / math.factorial(k-i) / math.factorial(k)\n",
    "        p2 = lmbda ** (k - int(i/2)) * np.exp(-lmbda) / math.factorial(k-int(i/2))\n",
    "        if i % 2 == 1:\n",
    "            p3 = lmbda ** (k - int(i/2) - 1) * np.exp(-lmbda) / math.factorial(k-int(i/2)-1)\n",
    "        if i % 2 == 0:\n",
    "            p3 = 0\n",
    "        p = p + p1*(p2+p3)\n",
    "probability = p * 6\n",
    "            \n",
    "print(probability)           "
   ]
  },
  {
   "cell_type": "code",
   "execution_count": 47,
   "metadata": {
    "collapsed": false
   },
   "outputs": [
    {
     "name": "stdout",
     "output_type": "stream",
     "text": [
      " Lambda     p       Lambda     p       Lambda     p       Lambda     p       Lambda     p\n",
      " 1          0.267   2          0.387   3          0.403   4          0.397   5          0.385\n",
      " 6          0.372   7          0.359   8          0.348   9          0.337   10         0.327\n",
      " 11         0.317   12         0.309   13         0.030   14         0.294   15         0.287\n",
      " 16         0.281   17         0.275   18         0.269   19         0.264   20         0.259\n",
      " 21         0.254   22         0.250   23         0.246   24         0.242   25         0.238\n"
     ]
    }
   ],
   "source": [
    "print(' Lambda     p       Lambda     p       Lambda     p       Lambda     p       Lambda     p')\n",
    "print(' 1          0.267   2          0.387   3          0.403   4          0.397   5          0.385')\n",
    "print(' 6          0.372   7          0.359   8          0.348   9          0.337   10         0.327')\n",
    "print(' 11         0.317   12         0.309   13         0.030   14         0.294   15         0.287')\n",
    "print(' 16         0.281   17         0.275   18         0.269   19         0.264   20         0.259')\n",
    "print(' 21         0.254   22         0.250   23         0.246   24         0.242   25         0.238')"
   ]
  },
  {
   "cell_type": "code",
   "execution_count": 5,
   "metadata": {
    "collapsed": false
   },
   "outputs": [
    {
     "name": "stdout",
     "output_type": "stream",
     "text": [
      "First \t Second\n",
      "0.0000 \t 0.3255\n"
     ]
    }
   ],
   "source": [
    "def compute_p_value(lmbda, n):\n",
    "    p = 0\n",
    "    for i in range(2, n):\n",
    "        for k in range(i,n):\n",
    "            p1 = lmbda ** (2*k - i) * np.exp(-2 * lmbda) / math.factorial(k-i) / math.factorial(k)\n",
    "            p2 = lmbda ** (k - int(i/2)) * np.exp(-lmbda) / math.factorial(k-int(i/2))\n",
    "            if i % 2 == 1:\n",
    "                p3 = lmbda ** (k - int(i/2) - 1) * np.exp(-lmbda) / math.factorial(k-int(i/2)-1)\n",
    "            if i % 2 == 0:\n",
    "                p3 = 0\n",
    "            p = p + p1*(p2+p3)\n",
    "    probability = p * 6\n",
    "    return probability\n",
    "print (\"First \\t Second\")\n",
    "print (\"%.4f \\t %0.4f\" % (compute_p_value(80, 20), compute_p_value(10,20)))"
   ]
  },
  {
   "cell_type": "code",
   "execution_count": null,
   "metadata": {
    "collapsed": true
   },
   "outputs": [],
   "source": []
  }
 ],
 "metadata": {
  "anaconda-cloud": {},
  "kernelspec": {
   "display_name": "Python 2",
   "language": "python",
   "name": "python2"
  },
  "language_info": {
   "codemirror_mode": {
    "name": "ipython",
    "version": 2
   },
   "file_extension": ".py",
   "mimetype": "text/x-python",
   "name": "python",
   "nbconvert_exporter": "python",
   "pygments_lexer": "ipython2",
   "version": "2.7.12"
  }
 },
 "nbformat": 4,
 "nbformat_minor": 0
}
